{
    "cells": [
      {
        "cell_type": "markdown",
        "metadata": {
          "id": "view-in-github"
        },
        "source": [
          "[![Open In Colab](https://colab.research.google.com/assets/colab-badge.svg)](https://colab.research.google.com/github/camenduru/SD-CN-Animation-colab/blob/main/SD-CN-Animation-colab.ipynb)"
        ]
      },
      {
        "cell_type": "code",
        "execution_count": null,
        "metadata": {
          "id": "LiJ53Tabr3cF"
        },
        "outputs": [],
        "source": [
          "!git clone https://huggingface.co/camenduru/SD-CN-Animation"
        ]
      }
    ],
    "metadata": {
      "language_info": {
        "name": "python"
      },
      "orig_nbformat": 4,
      "colab": {
        "provenance": []
      },
      "accelerator": "GPU",
      "gpuClass": "standard"
    },
    "nbformat": 4,
    "nbformat_minor": 0
  }