{
  "cells": [
    {
      "cell_type": "markdown",
      "metadata": {
        "id": "view-in-github"
      },
      "source": [
        "[![Open In Colab](https://colab.research.google.com/assets/colab-badge.svg)](https://colab.research.google.com/github/camenduru/SD-CN-Animation-colab/blob/main/SD-CN-Animation-colab.ipynb)"
      ]
    },
    {
      "cell_type": "code",
      "execution_count": null,
      "metadata": {
        "id": "LiJ53Tabr3cF"
      },
      "outputs": [],
      "source": [
        "%cd /content\n",
        "!git clone https://huggingface.co/camenduru/SD-CN-Animation\n",
        "%cd /content/SD-CN-Animation\n",
        "\n",
        "!pip install yt_dlp\n",
        "from yt_dlp import YoutubeDL\n",
        "def download_video(url):\n",
        "  ydl_opts = {'overwrites':True, 'format':'bestvideo[ext=mp4]+bestaudio[ext=m4a]/mp4', 'outtmpl':'/content/SD-CN-Animation/input.mp4'}\n",
        "  with YoutubeDL(ydl_opts) as ydl:\n",
        "    ydl.download(url)\n",
        "    return f\"/content/SD-CN-Animation/input.mp4\""
      ]
    },
    {
      "cell_type": "code",
      "execution_count": null,
      "metadata": {},
      "outputs": [],
      "source": [
        "download_video(\"https://www.youtube.com/watch?v=EU3hIXXeiz4\")"
      ]
    },
    {
      "cell_type": "code",
      "execution_count": null,
      "metadata": {},
      "outputs": [],
      "source": [
        "!python compute_flow.py -i /content/SD-CN-Animation/input.mp4 -o /content/SD-CN-Animation/flow.h5 -v -W 720 -H 1280"
      ]
    },
    {
      "cell_type": "code",
      "execution_count": null,
      "metadata": {},
      "outputs": [],
      "source": [
        "!python vid2vid.py"
      ]
    }
  ],
  "metadata": {
    "accelerator": "GPU",
    "colab": {
      "provenance": []
    },
    "gpuClass": "standard",
    "language_info": {
      "name": "python"
    },
    "orig_nbformat": 4
  },
  "nbformat": 4,
  "nbformat_minor": 0
}
